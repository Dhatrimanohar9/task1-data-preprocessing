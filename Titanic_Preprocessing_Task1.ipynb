{
 "cells": [
  {
   "cell_type": "markdown",
   "id": "66df2e49",
   "metadata": {},
   "source": [
    "# Titanic Data Cleaning & Preprocessing\n",
    "This notebook completes Task 1 of the AI & ML Internship."
   ]
  },
  {
   "cell_type": "code",
   "execution_count": null,
   "id": "85e30e99",
   "metadata": {},
   "outputs": [],
   "source": [
    "import pandas as pd\n",
    "import numpy as np\n",
    "import seaborn as sns\n",
    "import matplotlib.pyplot as plt\n",
    "from sklearn.preprocessing import LabelEncoder, StandardScaler"
   ]
  },
  {
   "cell_type": "code",
   "execution_count": null,
   "id": "5859461f",
   "metadata": {},
   "outputs": [],
   "source": [
    "# Load the dataset\n",
    "df = pd.read_csv(\"Titanic-Dataset.csv\")\n",
    "df.head()"
   ]
  },
  {
   "cell_type": "code",
   "execution_count": null,
   "id": "87a9b251",
   "metadata": {},
   "outputs": [],
   "source": [
    "# Basic Info\n",
    "print(\"Initial Dataset Info:\\n\")\n",
    "print(df.info())\n",
    "print(\"\\nMissing Values:\\n\")\n",
    "print(df.isnull().sum())"
   ]
  },
  {
   "cell_type": "code",
   "execution_count": null,
   "id": "64599a9c",
   "metadata": {},
   "outputs": [],
   "source": [
    "# Handle missing values\n",
    "df['Age'].fillna(df['Age'].mean(), inplace=True)\n",
    "df['Embarked'].fillna(df['Embarked'].mode()[0], inplace=True)\n",
    "\n",
    "# Drop columns with too many missing values\n",
    "if 'Cabin' in df.columns:\n",
    "    df.drop(columns=['Cabin'], inplace=True)\n",
    "if 'Body' in df.columns:\n",
    "    df.drop(columns=['Body'], inplace=True)"
   ]
  },
  {
   "cell_type": "code",
   "execution_count": null,
   "id": "131f6709",
   "metadata": {},
   "outputs": [],
   "source": [
    "# Encode categorical variables\n",
    "le = LabelEncoder()\n",
    "df['Sex'] = le.fit_transform(df['Sex'])\n",
    "\n",
    "df = pd.get_dummies(df, columns=['Embarked'], drop_first=True)"
   ]
  },
  {
   "cell_type": "code",
   "execution_count": null,
   "id": "d5f93230",
   "metadata": {},
   "outputs": [],
   "source": [
    "# Standardize numerical features\n",
    "scaler = StandardScaler()\n",
    "df[['Age', 'Fare']] = scaler.fit_transform(df[['Age', 'Fare']])"
   ]
  },
  {
   "cell_type": "code",
   "execution_count": null,
   "id": "f7a47d00",
   "metadata": {},
   "outputs": [],
   "source": [
    "# Visualize outliers\n",
    "sns.boxplot(data=df[['Age', 'Fare']])\n",
    "plt.title(\"Boxplot for Age and Fare\")\n",
    "plt.show()"
   ]
  },
  {
   "cell_type": "code",
   "execution_count": null,
   "id": "59e073c6",
   "metadata": {},
   "outputs": [],
   "source": [
    "# Remove outliers in Fare\n",
    "fare_limit = df['Fare'].quantile(0.99)\n",
    "df = df[df['Fare'] < fare_limit]"
   ]
  },
  {
   "cell_type": "code",
   "execution_count": null,
   "id": "27db1e1e",
   "metadata": {},
   "outputs": [],
   "source": [
    "# Save cleaned dataset\n",
    "df.to_csv(\"Cleaned_Titanic.csv\", index=False)\n",
    "print(\"Cleaned dataset saved as 'Cleaned_Titanic.csv'\")"
   ]
  }
 ],
 "metadata": {
  "language_info": {
   "name": "python"
  }
 },
 "nbformat": 4,
 "nbformat_minor": 5
}
